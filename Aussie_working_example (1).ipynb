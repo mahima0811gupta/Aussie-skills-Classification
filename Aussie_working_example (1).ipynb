{
 "cells": [
  {
   "cell_type": "markdown",
   "id": "f67dcf86",
   "metadata": {},
   "source": [
    "#### WORKING EXAMPLE OF THE MODEL PICKLE FILE"
   ]
  },
  {
   "cell_type": "code",
   "execution_count": 1,
   "id": "ec0164cb",
   "metadata": {},
   "outputs": [],
   "source": [
    "import pickle\n",
    "import numpy as np"
   ]
  },
  {
   "cell_type": "code",
   "execution_count": 2,
   "id": "26d48573",
   "metadata": {},
   "outputs": [],
   "source": [
    "from utils_ import get_top_n_class_names "
   ]
  },
  {
   "cell_type": "code",
   "execution_count": 7,
   "id": "3e31808b",
   "metadata": {},
   "outputs": [],
   "source": [
    "with open('pipeline_rf.pkl', 'rb') as f:\n",
    "    pipeline_rf = pickle.load(f)"
   ]
  },
  {
   "cell_type": "markdown",
   "id": "57a8e00a",
   "metadata": {},
   "source": [
    "#### REPLACE X_NEW WITH ACTUAL DATA COMING FROM FRONT-END (MAKE SURE IT'S IN 2D ARRAY FORM)"
   ]
  },
  {
   "cell_type": "code",
   "execution_count": 10,
   "id": "effa848a",
   "metadata": {},
   "outputs": [],
   "source": [
    "X_new = np.array([[7,9,8,8,6,6,6,9,7,6]])"
   ]
  },
  {
   "cell_type": "markdown",
   "id": "042811fc",
   "metadata": {},
   "source": [
    "#### RETURN TOP_N_CLASS_NAMES BACK TO FRONT-END"
   ]
  },
  {
   "cell_type": "code",
   "execution_count": 11,
   "id": "df634d2b",
   "metadata": {
    "scrolled": true
   },
   "outputs": [
    {
     "name": "stdout",
     "output_type": "stream",
     "text": [
      "Top 10 suited class names for the first test instance:\n",
      "['Podiatrists', 'Orthoptist', 'Corporate Treasurer', 'Boat Builders and Shipwrights', 'Mechanical Engineering Draftsperson', 'Naval Architect', 'Ophthalmologist', 'Mechanical Engineer', 'Civil Engineering Technician', 'Statistical Clerk']\n"
     ]
    },
    {
     "name": "stderr",
     "output_type": "stream",
     "text": [
      "C:\\Users\\KK\\anaconda3\\lib\\site-packages\\sklearn\\base.py:493: UserWarning: X does not have valid feature names, but RandomForestClassifier was fitted with feature names\n",
      "  warnings.warn(\n"
     ]
    }
   ],
   "source": [
    "# Get top 10 suited class names for each instance\n",
    "top_n_class_names = get_top_n_class_names(pipeline_rf, X_new, N=10)\n",
    "\n",
    "# Example of output\n",
    "print(\"Top 10 suited class names for the first test instance:\")\n",
    "print(top_n_class_names[0])"
   ]
  },
  {
   "cell_type": "code",
   "execution_count": null,
   "id": "c8304f3a",
   "metadata": {},
   "outputs": [],
   "source": []
  }
 ],
 "metadata": {
  "kernelspec": {
   "display_name": "Python 3 (ipykernel)",
   "language": "python",
   "name": "python3"
  },
  "language_info": {
   "codemirror_mode": {
    "name": "ipython",
    "version": 3
   },
   "file_extension": ".py",
   "mimetype": "text/x-python",
   "name": "python",
   "nbconvert_exporter": "python",
   "pygments_lexer": "ipython3",
   "version": "3.9.13"
  }
 },
 "nbformat": 4,
 "nbformat_minor": 5
}
